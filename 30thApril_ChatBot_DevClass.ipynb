{
  "nbformat": 4,
  "nbformat_minor": 0,
  "metadata": {
    "colab": {
      "provenance": [],
      "include_colab_link": true
    },
    "kernelspec": {
      "name": "python3",
      "display_name": "Python 3"
    },
    "language_info": {
      "name": "python"
    },
    "widgets": {
      "application/vnd.jupyter.widget-state+json": {
        "25b4002daba94af19f0005807addddf8": {
          "model_module": "@jupyter-widgets/controls",
          "model_name": "FileUploadModel",
          "model_module_version": "1.5.0",
          "state": {
            "_counter": 1,
            "_dom_classes": [],
            "_model_module": "@jupyter-widgets/controls",
            "_model_module_version": "1.5.0",
            "_model_name": "FileUploadModel",
            "_view_count": null,
            "_view_module": "@jupyter-widgets/controls",
            "_view_module_version": "1.5.0",
            "_view_name": "FileUploadView",
            "accept": ".pdf,.html,.txt",
            "button_style": "",
            "data": [
              null
            ],
            "description": "Upload",
            "description_tooltip": null,
            "disabled": false,
            "error": "",
            "icon": "upload",
            "layout": "IPY_MODEL_059740e4cf9249328cb7a8f4456dd8e6",
            "metadata": [
              {
                "name": "climateChange.pdf",
                "type": "application/pdf",
                "size": 6944893,
                "lastModified": 1746065133031
              }
            ],
            "multiple": false,
            "style": "IPY_MODEL_02561353ccd547eaa5ce25431381ad20"
          }
        },
        "059740e4cf9249328cb7a8f4456dd8e6": {
          "model_module": "@jupyter-widgets/base",
          "model_name": "LayoutModel",
          "model_module_version": "1.2.0",
          "state": {
            "_model_module": "@jupyter-widgets/base",
            "_model_module_version": "1.2.0",
            "_model_name": "LayoutModel",
            "_view_count": null,
            "_view_module": "@jupyter-widgets/base",
            "_view_module_version": "1.2.0",
            "_view_name": "LayoutView",
            "align_content": null,
            "align_items": null,
            "align_self": null,
            "border": null,
            "bottom": null,
            "display": null,
            "flex": null,
            "flex_flow": null,
            "grid_area": null,
            "grid_auto_columns": null,
            "grid_auto_flow": null,
            "grid_auto_rows": null,
            "grid_column": null,
            "grid_gap": null,
            "grid_row": null,
            "grid_template_areas": null,
            "grid_template_columns": null,
            "grid_template_rows": null,
            "height": null,
            "justify_content": null,
            "justify_items": null,
            "left": null,
            "margin": null,
            "max_height": null,
            "max_width": null,
            "min_height": null,
            "min_width": null,
            "object_fit": null,
            "object_position": null,
            "order": null,
            "overflow": null,
            "overflow_x": null,
            "overflow_y": null,
            "padding": null,
            "right": null,
            "top": null,
            "visibility": null,
            "width": null
          }
        },
        "02561353ccd547eaa5ce25431381ad20": {
          "model_module": "@jupyter-widgets/controls",
          "model_name": "ButtonStyleModel",
          "model_module_version": "1.5.0",
          "state": {
            "_model_module": "@jupyter-widgets/controls",
            "_model_module_version": "1.5.0",
            "_model_name": "ButtonStyleModel",
            "_view_count": null,
            "_view_module": "@jupyter-widgets/base",
            "_view_module_version": "1.2.0",
            "_view_name": "StyleView",
            "button_color": null,
            "font_weight": ""
          }
        },
        "1a9073fdda9d417e9ba2b0837d4c2b69": {
          "model_module": "@jupyter-widgets/controls",
          "model_name": "TextModel",
          "model_module_version": "1.5.0",
          "state": {
            "_dom_classes": [],
            "_model_module": "@jupyter-widgets/controls",
            "_model_module_version": "1.5.0",
            "_model_name": "TextModel",
            "_view_count": null,
            "_view_module": "@jupyter-widgets/controls",
            "_view_module_version": "1.5.0",
            "_view_name": "TextView",
            "continuous_update": true,
            "description": "",
            "description_tooltip": null,
            "disabled": false,
            "layout": "IPY_MODEL_ed1d2cb6c7134c3fab5655df5c8167bd",
            "placeholder": "Ask your question here...",
            "style": "IPY_MODEL_d293339d53f34e9192bcd7ad436cf647",
            "value": ""
          }
        },
        "ed1d2cb6c7134c3fab5655df5c8167bd": {
          "model_module": "@jupyter-widgets/base",
          "model_name": "LayoutModel",
          "model_module_version": "1.2.0",
          "state": {
            "_model_module": "@jupyter-widgets/base",
            "_model_module_version": "1.2.0",
            "_model_name": "LayoutModel",
            "_view_count": null,
            "_view_module": "@jupyter-widgets/base",
            "_view_module_version": "1.2.0",
            "_view_name": "LayoutView",
            "align_content": null,
            "align_items": null,
            "align_self": null,
            "border": null,
            "bottom": null,
            "display": null,
            "flex": null,
            "flex_flow": null,
            "grid_area": null,
            "grid_auto_columns": null,
            "grid_auto_flow": null,
            "grid_auto_rows": null,
            "grid_column": null,
            "grid_gap": null,
            "grid_row": null,
            "grid_template_areas": null,
            "grid_template_columns": null,
            "grid_template_rows": null,
            "height": null,
            "justify_content": null,
            "justify_items": null,
            "left": null,
            "margin": null,
            "max_height": null,
            "max_width": null,
            "min_height": null,
            "min_width": null,
            "object_fit": null,
            "object_position": null,
            "order": null,
            "overflow": null,
            "overflow_x": null,
            "overflow_y": null,
            "padding": null,
            "right": null,
            "top": null,
            "visibility": null,
            "width": null
          }
        },
        "d293339d53f34e9192bcd7ad436cf647": {
          "model_module": "@jupyter-widgets/controls",
          "model_name": "DescriptionStyleModel",
          "model_module_version": "1.5.0",
          "state": {
            "_model_module": "@jupyter-widgets/controls",
            "_model_module_version": "1.5.0",
            "_model_name": "DescriptionStyleModel",
            "_view_count": null,
            "_view_module": "@jupyter-widgets/base",
            "_view_module_version": "1.2.0",
            "_view_name": "StyleView",
            "description_width": ""
          }
        },
        "29459d477368427d9c2e221522643fe6": {
          "model_module": "@jupyter-widgets/output",
          "model_name": "OutputModel",
          "model_module_version": "1.0.0",
          "state": {
            "_dom_classes": [],
            "_model_module": "@jupyter-widgets/output",
            "_model_module_version": "1.0.0",
            "_model_name": "OutputModel",
            "_view_count": null,
            "_view_module": "@jupyter-widgets/output",
            "_view_module_version": "1.0.0",
            "_view_name": "OutputView",
            "layout": "IPY_MODEL_2b7c8da8561240f8a9d42c8d2d28da1e",
            "msg_id": "",
            "outputs": [
              {
                "output_type": "stream",
                "name": "stdout",
                "text": [
                  "User: \"Who are the authors of the report?\"\n"
                ]
              },
              {
                "output_type": "stream",
                "name": "stdout",
                "text": [
                  "PrivateAI:  The report, \"Climate Change 2021: Summary for All,\" was written by members of the Working Group I Technical Support Unit (WGI TSU) and several authors of the IPCC Working Group I climate change report. The specific authors mentioned in the document are:\n",
                  "\n",
                  "- Govindasamy Bala (Chapter 4 author)\n",
                  "- Deliang Chen (Chapter 1 author)\n",
                  "- Tamsin Edwards (Chapter 9 author)\n",
                  "- Sandro Fuzzi (Chapter 6 author)\n",
                  "- Thian Yew Gan (Chapter 8 author)\n",
                  "- Ed Hawkins (Chapter 1 author)\n",
                  "- Richard Jones (Atlas Chapter author)\n",
                  "- Robert Kopp (Chapter 9 author)\n",
                  "- Douglas Maraun (Chapter 10 author)\n",
                  "- Valérie Masson-Delmotte (WGI Co-Chair)\n",
                  "- Roshanka Ranasinghe (Chapter 12 author)\n",
                  "- Joeri Rogelj (Chapter 5 author)\n",
                  "- Alex C. Ruane (Chapter 12 author)\n",
                  "- Sophie Szopa (Chapter 6 author)\n",
                  "- Panmao Zhai (WGI Co-Chair)\n",
                  "\n",
                  "Additionally, the summary was written and reviewed by members of the WGI TSU, including:\n",
                  "\n",
                  "- Sarah Connors\n",
                  "- Sophie Berger\n",
                  "- Clotilde Péan\n",
                  "- Nada Caud\n",
                  "- Melissa Gomis\n",
                  "- Katherine Leitzell\n",
                  "- Elisabeth Lonnoy\n",
                  "- Tom Maycock\n",
                  "- Anna Pirani\n",
                  "\n",
                  "The document also acknowledges contributions from external reviewers and volunteers.\n"
                ]
              }
            ]
          }
        },
        "2b7c8da8561240f8a9d42c8d2d28da1e": {
          "model_module": "@jupyter-widgets/base",
          "model_name": "LayoutModel",
          "model_module_version": "1.2.0",
          "state": {
            "_model_module": "@jupyter-widgets/base",
            "_model_module_version": "1.2.0",
            "_model_name": "LayoutModel",
            "_view_count": null,
            "_view_module": "@jupyter-widgets/base",
            "_view_module_version": "1.2.0",
            "_view_name": "LayoutView",
            "align_content": null,
            "align_items": null,
            "align_self": null,
            "border": null,
            "bottom": null,
            "display": null,
            "flex": null,
            "flex_flow": null,
            "grid_area": null,
            "grid_auto_columns": null,
            "grid_auto_flow": null,
            "grid_auto_rows": null,
            "grid_column": null,
            "grid_gap": null,
            "grid_row": null,
            "grid_template_areas": null,
            "grid_template_columns": null,
            "grid_template_rows": null,
            "height": null,
            "justify_content": null,
            "justify_items": null,
            "left": null,
            "margin": null,
            "max_height": null,
            "max_width": null,
            "min_height": null,
            "min_width": null,
            "object_fit": null,
            "object_position": null,
            "order": null,
            "overflow": null,
            "overflow_x": null,
            "overflow_y": null,
            "padding": null,
            "right": null,
            "top": null,
            "visibility": null,
            "width": null
          }
        }
      }
    }
  },
  "cells": [
    {
      "cell_type": "markdown",
      "metadata": {
        "id": "view-in-github",
        "colab_type": "text"
      },
      "source": [
        "<a href=\"https://colab.research.google.com/github/surendiran-20cl/GenAI-Intellipaat/blob/main/30thApril_ChatBot_DevClass.ipynb\" target=\"_parent\"><img src=\"https://colab.research.google.com/assets/colab-badge.svg\" alt=\"Open In Colab\"/></a>"
      ]
    },
    {
      "cell_type": "markdown",
      "source": [
        "## **How to create a chatbot with Private Knowledge-base with RAG**"
      ],
      "metadata": {
        "id": "cxO_VUaSeyF1"
      }
    },
    {
      "cell_type": "markdown",
      "source": [
        "### **What is it?**\n",
        "\n",
        "* **The chatbot can answer question related a particular document, specific business, product or domain**\n",
        "\n",
        "* **Unlike GPT, a personal chatbot is trained using RAG**"
      ],
      "metadata": {
        "id": "SfZOIm6he723"
      }
    },
    {
      "cell_type": "markdown",
      "source": [
        "### **How this thing can be done**\n",
        "\n",
        "* **The user should be allowed to upload a document**\n",
        "  * **System should be able to read the document**\n",
        "-----------------------\n",
        "* **Stem and Split all the data**\n",
        "* **Each chink will converted to numerical representation**"
      ],
      "metadata": {
        "id": "g1xAZxXQfNYA"
      }
    },
    {
      "cell_type": "markdown",
      "source": [
        "# **Step 1 - Requirement Phase**"
      ],
      "metadata": {
        "id": "MVFOldwBX7rp"
      }
    },
    {
      "cell_type": "code",
      "source": [
        "!pip install PyPDF2"
      ],
      "metadata": {
        "colab": {
          "base_uri": "https://localhost:8080/"
        },
        "id": "3-yaAyfkX_z3",
        "outputId": "3eecbb16-091b-447c-8b10-ea2d53cc312c"
      },
      "execution_count": null,
      "outputs": [
        {
          "output_type": "stream",
          "name": "stdout",
          "text": [
            "Collecting PyPDF2\n",
            "  Downloading pypdf2-3.0.1-py3-none-any.whl.metadata (6.8 kB)\n",
            "Downloading pypdf2-3.0.1-py3-none-any.whl (232 kB)\n",
            "\u001b[?25l   \u001b[90m━━━━━━━━━━━━━━━━━━━━━━━━━━━━━━━━━━━━━━━━\u001b[0m \u001b[32m0.0/232.6 kB\u001b[0m \u001b[31m?\u001b[0m eta \u001b[36m-:--:--\u001b[0m\r\u001b[2K   \u001b[91m━━━━━━━━━━━━━━━━━━━━━━━━━━\u001b[0m\u001b[90m╺\u001b[0m\u001b[90m━━━━━━━━━━━━━\u001b[0m \u001b[32m153.6/232.6 kB\u001b[0m \u001b[31m4.5 MB/s\u001b[0m eta \u001b[36m0:00:01\u001b[0m\r\u001b[2K   \u001b[90m━━━━━━━━━━━━━━━━━━━━━━━━━━━━━━━━━━━━━━━━\u001b[0m \u001b[32m232.6/232.6 kB\u001b[0m \u001b[31m4.2 MB/s\u001b[0m eta \u001b[36m0:00:00\u001b[0m\n",
            "\u001b[?25hInstalling collected packages: PyPDF2\n",
            "Successfully installed PyPDF2-3.0.1\n"
          ]
        }
      ]
    },
    {
      "cell_type": "markdown",
      "source": [
        "### **Importing libraries**"
      ],
      "metadata": {
        "id": "k-V-z1jTYI1U"
      }
    },
    {
      "cell_type": "code",
      "source": [
        "import os\n",
        "import nltk\n",
        "from PyPDF2 import PdfReader\n",
        "from bs4 import BeautifulSoup\n",
        "from nltk.stem import PorterStemmer\n",
        "from nltk.tokenize import sent_tokenize"
      ],
      "metadata": {
        "id": "-HzHmlawYE-S"
      },
      "execution_count": null,
      "outputs": []
    },
    {
      "cell_type": "markdown",
      "source": [
        "**Ending with (.), (?), (!). punkT and Punk_tab they try to figure out at what point a particular statement is ending.**\n"
      ],
      "metadata": {
        "id": "c1akqwaiZ6rI"
      }
    },
    {
      "cell_type": "code",
      "source": [
        "nltk.download(\"punkt\")\n",
        "nltk.download(\"punkt_tab\")"
      ],
      "metadata": {
        "colab": {
          "base_uri": "https://localhost:8080/"
        },
        "id": "1YLGEDDKYaPJ",
        "outputId": "393b1d35-c4ad-4bbe-debb-8981018c8d34"
      },
      "execution_count": null,
      "outputs": [
        {
          "output_type": "stream",
          "name": "stderr",
          "text": [
            "[nltk_data] Downloading package punkt to /root/nltk_data...\n",
            "[nltk_data]   Unzipping tokenizers/punkt.zip.\n",
            "[nltk_data] Downloading package punkt_tab to /root/nltk_data...\n",
            "[nltk_data]   Unzipping tokenizers/punkt_tab.zip.\n"
          ]
        },
        {
          "output_type": "execute_result",
          "data": {
            "text/plain": [
              "True"
            ]
          },
          "metadata": {},
          "execution_count": 3
        }
      ]
    },
    {
      "cell_type": "code",
      "source": [
        "SEGMENT_SIZE = 99999"
      ],
      "metadata": {
        "id": "iedkSUnRbyQf"
      },
      "execution_count": null,
      "outputs": []
    },
    {
      "cell_type": "markdown",
      "source": [
        "### **Initialize my stemmer**"
      ],
      "metadata": {
        "id": "CIp_ozXVbd0H"
      }
    },
    {
      "cell_type": "code",
      "source": [
        "ps = PorterStemmer()"
      ],
      "metadata": {
        "id": "Ad8U-AmXZqBb"
      },
      "execution_count": null,
      "outputs": []
    },
    {
      "cell_type": "markdown",
      "source": [
        "## **Function 1 - Preprocessing the information**"
      ],
      "metadata": {
        "id": "v3T9KtqablzM"
      }
    },
    {
      "cell_type": "code",
      "source": [
        "def process_text(text, segment_size = SEGMENT_SIZE):\n",
        "  # Here, we are tokenizing the entire text\n",
        "  sentences = sent_tokenize(text)\n",
        "\n",
        "  # Three variables for processing the entire data\n",
        "  original_text = []\n",
        "  processed_text = []        # These two are for storing the data\n",
        "  segments = \"\"              # Temp on which we will be doing all operation\n",
        "\n",
        "  for statement in sentences:\n",
        "    if len(segments) + len(statement) > segment_size:\n",
        "      original_text.append(segments)\n",
        "      processed_text.append(\" \".join([ps.stem(word) for word in segments.split()]))\n",
        "      segments = statement\n",
        "    else:\n",
        "      segments += \" \" + statement\n",
        "\n",
        "  # Handling the last sequence\n",
        "  if segments:\n",
        "    original_text.append(segments)\n",
        "    processed_text.append(\" \".join([ps.stem(word) for word in segments.split()]))\n",
        "\n",
        "  return original_text, processed_text"
      ],
      "metadata": {
        "id": "eSLtgTcnbiiu"
      },
      "execution_count": null,
      "outputs": []
    },
    {
      "cell_type": "code",
      "source": [
        "# words = \"The runner is currently working with Nike\"\n",
        "# \" \".join([ps.stem(word) for word in words.split()])"
      ],
      "metadata": {
        "id": "DB24_atvhz1F"
      },
      "execution_count": null,
      "outputs": []
    },
    {
      "cell_type": "markdown",
      "source": [
        "## **Function 2 - Loading the files**"
      ],
      "metadata": {
        "id": "EkJHqEmhjT-i"
      }
    },
    {
      "cell_type": "markdown",
      "source": [
        "### **1. Load PDF**"
      ],
      "metadata": {
        "id": "y_b-y-QCjces"
      }
    },
    {
      "cell_type": "code",
      "source": [
        "def read_pdf(file_path):\n",
        "  with open(file_path, \"rb\") as f:\n",
        "    reader = PdfReader(f)\n",
        "    text = \"\"\n",
        "    for page in reader.pages:\n",
        "      text += page.extract_text()\n",
        "  return process_text(text)"
      ],
      "metadata": {
        "id": "hA-ZYvg7jljx"
      },
      "execution_count": null,
      "outputs": []
    },
    {
      "cell_type": "markdown",
      "source": [
        "### **2. Read the HTML**"
      ],
      "metadata": {
        "id": "BTLSU5gejfnk"
      }
    },
    {
      "cell_type": "code",
      "source": [
        "def read_HTML(file_path):\n",
        "  with open(file_path, \"r\") as f:\n",
        "    data = BeautifulSoup(f, \"html.parser\")\n",
        "    text = data.get_text()\n",
        "    return process_text(text)"
      ],
      "metadata": {
        "id": "X0GBWmQJkGZQ"
      },
      "execution_count": null,
      "outputs": []
    },
    {
      "cell_type": "markdown",
      "source": [
        "### **3. Read a text file**"
      ],
      "metadata": {
        "id": "hCEv4OocjiSR"
      }
    },
    {
      "cell_type": "code",
      "source": [
        "def read_TXT(file_path):\n",
        "  with open(file_path, \"r\") as f:\n",
        "    text = f.read()\n",
        "    return process_text(text)"
      ],
      "metadata": {
        "id": "s3z6FpDkjZzu"
      },
      "execution_count": null,
      "outputs": []
    },
    {
      "cell_type": "markdown",
      "source": [
        "## **Function 3 - Finding the similarity**"
      ],
      "metadata": {
        "id": "SM4x_5b4lPon"
      }
    },
    {
      "cell_type": "code",
      "source": [
        "from sklearn.feature_extraction.text import TfidfVectorizer"
      ],
      "metadata": {
        "id": "7e8uRlW0kufR"
      },
      "execution_count": null,
      "outputs": []
    },
    {
      "cell_type": "code",
      "source": [
        "vectorizer = TfidfVectorizer()"
      ],
      "metadata": {
        "id": "26UESrholy34"
      },
      "execution_count": null,
      "outputs": []
    },
    {
      "cell_type": "code",
      "source": [
        "documents = []          # THese two variables over here, are going to represent your database\n",
        "\n",
        "original_docs = []\n",
        "\n",
        "vectors = None"
      ],
      "metadata": {
        "id": "vQubEePal2tb"
      },
      "execution_count": null,
      "outputs": []
    },
    {
      "cell_type": "markdown",
      "source": [
        "### **1. Add Documents**"
      ],
      "metadata": {
        "id": "qW98JZcvl_GI"
      }
    },
    {
      "cell_type": "code",
      "source": [
        "def add_documents(text):\n",
        "  documents.extend(text)\n",
        "  vectors = vectorizer.fit_transform(documents)\n",
        "  return vectors"
      ],
      "metadata": {
        "id": "t8i0i54ql8uq"
      },
      "execution_count": null,
      "outputs": []
    },
    {
      "cell_type": "markdown",
      "source": [
        "### **2. Get the multi-document functionality**"
      ],
      "metadata": {
        "id": "5VuvHtfbmnxf"
      }
    },
    {
      "cell_type": "code",
      "source": [
        "def process_and_add_documents(file_path, file_type):\n",
        "  if file_type == \"pdf\":\n",
        "    original_data, processed_data = read_pdf(file_path = file_path)\n",
        "  elif file_type == \"html\":\n",
        "    original_data, processed_data = read_HTML(file_path = file_path)\n",
        "  elif file_type == \"txt\":\n",
        "    original_data, processed_data = read_TXT(file_path = file_path)\n",
        "  else:\n",
        "    raise ValueError(\"Unsupported file format provided, please check and ensure that the file provided is in correct format\")\n",
        "\n",
        "  original_docs.extend(original_data)\n",
        "  vectors = add_documents(processed_data)\n",
        "\n",
        "  return vectors"
      ],
      "metadata": {
        "id": "P-6pl41pmkz6"
      },
      "execution_count": null,
      "outputs": []
    },
    {
      "cell_type": "markdown",
      "source": [
        "### **3. Similarity Matching**"
      ],
      "metadata": {
        "id": "stON3goJoPgs"
      }
    },
    {
      "cell_type": "code",
      "source": [
        "NUMBER_OF_TOP_MATCHES = 3"
      ],
      "metadata": {
        "id": "m_fGyCC6oZQm"
      },
      "execution_count": null,
      "outputs": []
    },
    {
      "cell_type": "code",
      "source": [
        "def find_best_matches(query, n_matches = NUMBER_OF_TOP_MATCHES):\n",
        "  query_processed = process_text(query)[1]\n",
        "  query_vector = vectorizer.transform(query_processed)  # Vector Format\n",
        "  similarity = (query_vector * vectors.T).toarray()\n",
        "\n",
        "  best_matches = similarity.argsort()[0][-n_matches:][::-1]\n",
        "\n",
        "  return [original_docs[i] for i in best_matches], [documents[i] for i in best_matches]"
      ],
      "metadata": {
        "id": "Fd3yAMGvoMbv"
      },
      "execution_count": null,
      "outputs": []
    },
    {
      "cell_type": "markdown",
      "source": [
        "## **Construction of Prompt and LLM**"
      ],
      "metadata": {
        "id": "31cqdz0xra6j"
      }
    },
    {
      "cell_type": "code",
      "source": [
        "!pip install cohere"
      ],
      "metadata": {
        "colab": {
          "base_uri": "https://localhost:8080/"
        },
        "id": "w-zOG4kEr5wp",
        "outputId": "c34b933d-0059-45fa-fc3f-ceb2c387dc2c"
      },
      "execution_count": null,
      "outputs": [
        {
          "output_type": "stream",
          "name": "stdout",
          "text": [
            "Requirement already satisfied: cohere in /usr/local/lib/python3.11/dist-packages (5.15.0)\n",
            "Requirement already satisfied: fastavro<2.0.0,>=1.9.4 in /usr/local/lib/python3.11/dist-packages (from cohere) (1.10.0)\n",
            "Requirement already satisfied: httpx>=0.21.2 in /usr/local/lib/python3.11/dist-packages (from cohere) (0.28.1)\n",
            "Requirement already satisfied: httpx-sse==0.4.0 in /usr/local/lib/python3.11/dist-packages (from cohere) (0.4.0)\n",
            "Requirement already satisfied: pydantic>=1.9.2 in /usr/local/lib/python3.11/dist-packages (from cohere) (2.11.3)\n",
            "Requirement already satisfied: pydantic-core<3.0.0,>=2.18.2 in /usr/local/lib/python3.11/dist-packages (from cohere) (2.33.1)\n",
            "Requirement already satisfied: requests<3.0.0,>=2.0.0 in /usr/local/lib/python3.11/dist-packages (from cohere) (2.32.3)\n",
            "Requirement already satisfied: tokenizers<1,>=0.15 in /usr/local/lib/python3.11/dist-packages (from cohere) (0.21.1)\n",
            "Requirement already satisfied: types-requests<3.0.0,>=2.0.0 in /usr/local/lib/python3.11/dist-packages (from cohere) (2.32.0.20250328)\n",
            "Requirement already satisfied: typing_extensions>=4.0.0 in /usr/local/lib/python3.11/dist-packages (from cohere) (4.13.2)\n",
            "Requirement already satisfied: anyio in /usr/local/lib/python3.11/dist-packages (from httpx>=0.21.2->cohere) (4.9.0)\n",
            "Requirement already satisfied: certifi in /usr/local/lib/python3.11/dist-packages (from httpx>=0.21.2->cohere) (2025.1.31)\n",
            "Requirement already satisfied: httpcore==1.* in /usr/local/lib/python3.11/dist-packages (from httpx>=0.21.2->cohere) (1.0.9)\n",
            "Requirement already satisfied: idna in /usr/local/lib/python3.11/dist-packages (from httpx>=0.21.2->cohere) (3.10)\n",
            "Requirement already satisfied: h11>=0.16 in /usr/local/lib/python3.11/dist-packages (from httpcore==1.*->httpx>=0.21.2->cohere) (0.16.0)\n",
            "Requirement already satisfied: annotated-types>=0.6.0 in /usr/local/lib/python3.11/dist-packages (from pydantic>=1.9.2->cohere) (0.7.0)\n",
            "Requirement already satisfied: typing-inspection>=0.4.0 in /usr/local/lib/python3.11/dist-packages (from pydantic>=1.9.2->cohere) (0.4.0)\n",
            "Requirement already satisfied: charset-normalizer<4,>=2 in /usr/local/lib/python3.11/dist-packages (from requests<3.0.0,>=2.0.0->cohere) (3.4.1)\n",
            "Requirement already satisfied: urllib3<3,>=1.21.1 in /usr/local/lib/python3.11/dist-packages (from requests<3.0.0,>=2.0.0->cohere) (2.4.0)\n",
            "Requirement already satisfied: huggingface-hub<1.0,>=0.16.4 in /usr/local/lib/python3.11/dist-packages (from tokenizers<1,>=0.15->cohere) (0.30.2)\n",
            "Requirement already satisfied: filelock in /usr/local/lib/python3.11/dist-packages (from huggingface-hub<1.0,>=0.16.4->tokenizers<1,>=0.15->cohere) (3.18.0)\n",
            "Requirement already satisfied: fsspec>=2023.5.0 in /usr/local/lib/python3.11/dist-packages (from huggingface-hub<1.0,>=0.16.4->tokenizers<1,>=0.15->cohere) (2025.3.2)\n",
            "Requirement already satisfied: packaging>=20.9 in /usr/local/lib/python3.11/dist-packages (from huggingface-hub<1.0,>=0.16.4->tokenizers<1,>=0.15->cohere) (24.2)\n",
            "Requirement already satisfied: pyyaml>=5.1 in /usr/local/lib/python3.11/dist-packages (from huggingface-hub<1.0,>=0.16.4->tokenizers<1,>=0.15->cohere) (6.0.2)\n",
            "Requirement already satisfied: tqdm>=4.42.1 in /usr/local/lib/python3.11/dist-packages (from huggingface-hub<1.0,>=0.16.4->tokenizers<1,>=0.15->cohere) (4.67.1)\n",
            "Requirement already satisfied: sniffio>=1.1 in /usr/local/lib/python3.11/dist-packages (from anyio->httpx>=0.21.2->cohere) (1.3.1)\n"
          ]
        }
      ]
    },
    {
      "cell_type": "markdown",
      "source": [
        "### **Engineer a Prompt**"
      ],
      "metadata": {
        "id": "1x4BKtctrnfI"
      }
    },
    {
      "cell_type": "code",
      "source": [
        "import cohere\n",
        "from google.colab import userdata"
      ],
      "metadata": {
        "id": "KUOIhgrQodGO"
      },
      "execution_count": null,
      "outputs": []
    },
    {
      "cell_type": "code",
      "source": [
        "co = cohere.ClientV2(api_key = userdata.get(\"CohereKey\"))"
      ],
      "metadata": {
        "id": "53jAice4sF8z"
      },
      "execution_count": null,
      "outputs": []
    },
    {
      "cell_type": "code",
      "source": [
        "def get_resp(query, context):\n",
        "  messages = [\n",
        "      {\"role\": \"system\", \"content\":\"You are AI assistant. Use the provided context, to answer the user's query accurately and precisely. Try to keep the answer concise\"},\n",
        "      {\"role\": \"system\", \"content\" : context},\n",
        "      {\"role\": \"user\", \"content\": query}\n",
        "  ]\n",
        "\n",
        "  resp = co.chat(\n",
        "      model=\"command-a-03-2025\",\n",
        "      messages = messages\n",
        "  )\n",
        "\n",
        "  return resp.message.content[0].text.strip()"
      ],
      "metadata": {
        "id": "yk5RNDzDsPE9"
      },
      "execution_count": null,
      "outputs": []
    },
    {
      "cell_type": "markdown",
      "source": [
        "## **Put all this together**"
      ],
      "metadata": {
        "id": "P45KxXcTtLJ4"
      }
    },
    {
      "cell_type": "code",
      "source": [
        "def reset_database():\n",
        "  global documents, original_docs, vectors\n",
        "  documents = []\n",
        "  original_docs = []\n",
        "  vectors = None"
      ],
      "metadata": {
        "id": "1dcTgQLitAFP"
      },
      "execution_count": null,
      "outputs": []
    },
    {
      "cell_type": "code",
      "source": [
        "def initialize(file_name):\n",
        "  file_type = file_name.split(\".\")[-1]\n",
        "  return process_and_add_documents(file_path=file_name, file_type=file_type)"
      ],
      "metadata": {
        "id": "lSzywQIGtYql"
      },
      "execution_count": null,
      "outputs": []
    },
    {
      "cell_type": "code",
      "source": [
        "def chat(user_query, is_debug = False):\n",
        "  original_best_matches, processed_best_match = find_best_matches(user_query)\n",
        "  context = \"\\n\\n\".join(original_best_matches)\n",
        "\n",
        "  if is_debug:\n",
        "    print(f\"Context: {context}\")\n",
        "\n",
        "  resp = get_resp(user_query, context)\n",
        "  return resp"
      ],
      "metadata": {
        "id": "lsyT2LbGtpXR"
      },
      "execution_count": null,
      "outputs": []
    },
    {
      "cell_type": "markdown",
      "source": [
        "## **Test**"
      ],
      "metadata": {
        "id": "xM43gordulRU"
      }
    },
    {
      "cell_type": "code",
      "source": [
        "import requests\n",
        "\n",
        "\n",
        "def download_files():\n",
        "  sample_files = [\n",
        "      {\n",
        "          \"url\" : \"https://www.ipcc.ch/report/ar6/wg1/downloads/outreach/IPCC_AR6_WGI_SummaryForAll.pdf\",\n",
        "          \"file_name\":\"climateChange.pdf\"\n",
        "      },\n",
        "      {\n",
        "          \"url\":\"https://medium.com/illumination/i-tried-10-decaf-coffees-as-a-first-time-coffee-drinker-heres-what-i-found-a8c5fb93a40e\",\n",
        "          \"file_name\": \"coffee.html\"\n",
        "      }\n",
        "  ]\n",
        "\n",
        "  for files in sample_files:\n",
        "    resp = requests.get(files[\"url\"])\n",
        "    with open(files[\"file_name\"], \"wb\") as f:\n",
        "      f.write(resp.content)\n",
        "\n",
        "  return [x[\"file_name\"] for x in sample_files]"
      ],
      "metadata": {
        "id": "4yzGjLyKulHE"
      },
      "execution_count": null,
      "outputs": []
    },
    {
      "cell_type": "code",
      "source": [
        "files_names = download_files()\n",
        "\n",
        "for x in files_names:\n",
        "  print(x)"
      ],
      "metadata": {
        "id": "ywkV6_q0tr-H",
        "colab": {
          "base_uri": "https://localhost:8080/"
        },
        "outputId": "fdfbeb0f-4347-40ae-909d-57adf4bbf0df"
      },
      "execution_count": null,
      "outputs": [
        {
          "output_type": "stream",
          "name": "stdout",
          "text": [
            "climateChange.pdf\n",
            "coffee.html\n"
          ]
        }
      ]
    },
    {
      "cell_type": "markdown",
      "source": [
        "### **Reset the database**"
      ],
      "metadata": {
        "id": "j-BrDSBtkMt3"
      }
    },
    {
      "cell_type": "code",
      "source": [
        "reset_database()"
      ],
      "metadata": {
        "id": "rYJrxPHPkABx"
      },
      "execution_count": null,
      "outputs": []
    },
    {
      "cell_type": "markdown",
      "source": [
        "### **Initializing the vectors**"
      ],
      "metadata": {
        "id": "lB94OwXakVBt"
      }
    },
    {
      "cell_type": "code",
      "source": [
        "vectors = initialize(\"/content/climateChange.pdf\")"
      ],
      "metadata": {
        "id": "bhan2NeekT69"
      },
      "execution_count": null,
      "outputs": []
    },
    {
      "cell_type": "code",
      "source": [
        "vectors"
      ],
      "metadata": {
        "colab": {
          "base_uri": "https://localhost:8080/"
        },
        "id": "t_bEi1m3krsy",
        "outputId": "9a7a667a-c9e3-460b-c149-8d33e4b9ad56"
      },
      "execution_count": null,
      "outputs": [
        {
          "output_type": "execute_result",
          "data": {
            "text/plain": [
              "<Compressed Sparse Row sparse matrix of dtype 'float64'\n",
              "\twith 1021 stored elements and shape (1, 1021)>"
            ]
          },
          "metadata": {},
          "execution_count": 46
        }
      ]
    },
    {
      "cell_type": "code",
      "source": [
        "resp = chat(\"Who are the authors of the report?\")"
      ],
      "metadata": {
        "id": "uJTintzVlubR"
      },
      "execution_count": null,
      "outputs": []
    },
    {
      "cell_type": "code",
      "source": [
        "print(resp)"
      ],
      "metadata": {
        "colab": {
          "base_uri": "https://localhost:8080/"
        },
        "id": "_OPbrBCwmJ7I",
        "outputId": "bc1e490e-1808-4229-af0e-c35e0ec083c9"
      },
      "execution_count": null,
      "outputs": [
        {
          "output_type": "stream",
          "name": "stdout",
          "text": [
            "The authors of the report are not explicitly listed in the provided text. However, the text mentions that the summary was written and reviewed by several individuals, including members of the Working Group I Technical Support Unit (WGI TSU) and authors of the IPCC report. Here are the names of the individuals mentioned:\n",
            "\n",
            "- Sarah Connors (WGI TSU)\n",
            "- Sophie Berger (WGI TSU)\n",
            "- Clotilde Péan (WGI TSU)\n",
            "- Govindasamy Bala (Chapter 4 author)\n",
            "- Nada Caud (WGI TSU)\n",
            "- Deliang Chen (Chapter 1 author)\n",
            "- Tamsin Edwards (Chapter 9 author)\n",
            "- Sandro Fuzzi (Chapter 6 author)\n",
            "- Thian Yew Gan (Chapter 8 author)\n",
            "- Melissa Gomis (WGI TSU)\n",
            "- Ed Hawkins (Chapter 1 author)\n",
            "- Richard Jones (Atlas Chapter author)\n",
            "- Robert Kopp (Chapter 9 author)\n",
            "- Katherine Leitzell (WGI TSU)\n",
            "- Elisabeth Lonnoy (WGI TSU)\n",
            "- Douglas Maraun (Chapter 10 author)\n",
            "- Valérie Masson-Delmotte (WGI Co-Chair)\n",
            "- Tom Maycock (WGI TSU)\n",
            "- Anna Pirani (WGI TSU)\n",
            "- Roshanka Ranasinghe (Chapter 12 author)\n",
            "- Joeri Rogelj (Chapter 5 author)\n",
            "- Alex C. Ruane (Chapter 12 author)\n",
            "- Sophie Szopa (Chapter 6 author)\n",
            "- Panmao Zhai (WGI Co-Chair)\n",
            "\n",
            "Please note that this list includes the authors of the summary and some of the authors of the IPCC report, but it may not be a complete list of all authors involved in the IPCC report. The IPCC report is typically authored by a large number of scientists and experts from around the world.\n"
          ]
        }
      ]
    },
    {
      "cell_type": "code",
      "source": [
        "reset_database()"
      ],
      "metadata": {
        "id": "nmvBzAj5mME0"
      },
      "execution_count": null,
      "outputs": []
    },
    {
      "cell_type": "code",
      "source": [
        "vectors = initialize(\"coffee.html\")"
      ],
      "metadata": {
        "id": "v8FHhDitmjKg"
      },
      "execution_count": null,
      "outputs": []
    },
    {
      "cell_type": "code",
      "source": [
        "while True:\n",
        "  user_query = input(\"Hi, Please ask! (type 'quit' or 'exit' to stop): \")\n",
        "  if user_query.lower() in [\"quit\", \"exit\"]:\n",
        "    print(\"Thanks!\")\n",
        "    break\n",
        "\n",
        "  print(\"=======================================================================\")\n",
        "  print(f\"User:\\\"{user_query}\")\n",
        "  resp = chat(user_query)\n",
        "  print(f\"PrivateAI: \", resp, flush = True)"
      ],
      "metadata": {
        "colab": {
          "base_uri": "https://localhost:8080/"
        },
        "id": "pjgM60hsm0NM",
        "outputId": "5e0b6e56-bf29-48ff-d492-742572e699ed"
      },
      "execution_count": null,
      "outputs": [
        {
          "output_type": "stream",
          "name": "stdout",
          "text": [
            "Hi, Please ask! (type 'quit' or 'exit' to stop): QUIT\n",
            "=======================================================================\n",
            "User:\"QUIT\n",
            "PrivateAI:  It seems like you're looking for a concise answer to what makes a good or bad coffee based on the provided context. Here’s a summary:\n",
            "\n",
            "**What makes a good or bad coffee?**  \n",
            "According to Kory Becker, a first-time coffee drinker who tried 10 decaf coffees, the criteria for a good or bad coffee include:  \n",
            "1. **Taste** – The flavor profile and overall enjoyment.  \n",
            "2. **Bitterness** – The level of bitterness, which can be a positive or negative depending on preference.  \n",
            "3. **Experience** – How the coffee makes the drinker feel (e.g., no jitters, no stomach upset).  \n",
            "4. **Price** – The value for money compared to quality.  \n",
            "\n",
            "Becker emphasizes personal sensitivity to caffeine and acidity, making decaf a preferred choice. The review ranks coffees based on these factors, highlighting that a \"good\" coffee is subjective and depends on individual preferences and priorities.\n",
            "Hi, Please ask! (type 'quit' or 'exit' to stop): quit\n",
            "Thanks!\n"
          ]
        }
      ]
    },
    {
      "cell_type": "markdown",
      "source": [
        " Kory Becker, a first-time coffee drinker sensitive to caffeine, shares their experience trying 10 decaf coffee brands over several months. Initially avoiding coffee due to caffeine sensitivity and concerns about acidity, they now enjoy decaf coffee daily. The article ranks the coffees by taste, experience, and price, offering insights into what makes a coffee good or bad, focusing on factors like taste, bitterness, and overall experience."
      ],
      "metadata": {
        "id": "4CIf2hSIo4NZ"
      }
    },
    {
      "cell_type": "markdown",
      "source": [
        "# **Interface**"
      ],
      "metadata": {
        "id": "PeQHLnuupjoq"
      }
    },
    {
      "cell_type": "code",
      "source": [
        "import ipywidgets as widgets\n",
        "from IPython.display import display, clear_output\n",
        "\n",
        "# ... (Your existing code) ...\n",
        "\n",
        "# Create file upload widget\n",
        "uploader = widgets.FileUpload(\n",
        "    accept='.pdf,.html,.txt',  # Accept PDF, HTML, and text files\n",
        "    multiple=False  # Allow only one file at a time\n",
        ")\n",
        "\n",
        "# Create text input widget for user queries\n",
        "text_input = widgets.Text(placeholder='Ask your question here...')\n",
        "\n",
        "# Create output widget to display chatbot responses\n",
        "output = widgets.Output()\n",
        "\n",
        "# Function to handle file upload\n",
        "def on_file_upload(change):\n",
        "  with output:\n",
        "    clear_output()  # Clear previous output\n",
        "    uploaded_file = list(change['new'].values())[0]\n",
        "    file_name = uploaded_file['metadata']['name']\n",
        "    with open(file_name, 'wb') as f:\n",
        "      f.write(uploaded_file['content'])\n",
        "\n",
        "    try:\n",
        "      global vectors\n",
        "      reset_database()\n",
        "      vectors = initialize(file_name)\n",
        "      print(f\"File '{file_name}' uploaded successfully.\")\n",
        "      print(\"Ready for your questions!\")\n",
        "    except Exception as e:\n",
        "      print(f\"Error processing the uploaded file: {e}\")\n",
        "\n",
        "\n",
        "# Function to handle user queries\n",
        "def on_submit(change):\n",
        "  with output:\n",
        "    clear_output(wait=True)  # Clear output and wait for new output\n",
        "    user_query = text_input.value\n",
        "    text_input.value = ''  # Clear the input field after submission\n",
        "\n",
        "    if user_query.lower() in [\"quit\", \"exit\"]:\n",
        "      print(\"Thanks, Hope it helped you!. (PrivateAI left the conversation)..\")\n",
        "      return\n",
        "\n",
        "    print(f\"User: \\\"{user_query}\\\"\")\n",
        "    resp = chat(user_query)\n",
        "    print(\"PrivateAI: \", resp, flush=True)\n",
        "\n",
        "# Attach event handlers\n",
        "uploader.observe(on_file_upload, names='value')\n",
        "text_input.on_submit(on_submit)\n",
        "\n",
        "# Display the widgets\n",
        "display(uploader)\n",
        "display(text_input)\n",
        "display(output)\n"
      ],
      "metadata": {
        "colab": {
          "base_uri": "https://localhost:8080/",
          "height": 654,
          "referenced_widgets": [
            "25b4002daba94af19f0005807addddf8",
            "059740e4cf9249328cb7a8f4456dd8e6",
            "02561353ccd547eaa5ce25431381ad20",
            "1a9073fdda9d417e9ba2b0837d4c2b69",
            "ed1d2cb6c7134c3fab5655df5c8167bd",
            "d293339d53f34e9192bcd7ad436cf647",
            "29459d477368427d9c2e221522643fe6",
            "2b7c8da8561240f8a9d42c8d2d28da1e"
          ]
        },
        "id": "Tkh4v_XcoJh7",
        "outputId": "8eb1ab29-0019-4e90-bd8b-4cbf907b10ce"
      },
      "execution_count": null,
      "outputs": [
        {
          "output_type": "display_data",
          "data": {
            "text/plain": [
              "FileUpload(value={}, accept='.pdf,.html,.txt', description='Upload')"
            ],
            "application/vnd.jupyter.widget-view+json": {
              "version_major": 2,
              "version_minor": 0,
              "model_id": "25b4002daba94af19f0005807addddf8"
            }
          },
          "metadata": {}
        },
        {
          "output_type": "display_data",
          "data": {
            "text/plain": [
              "Text(value='', placeholder='Ask your question here...')"
            ],
            "application/vnd.jupyter.widget-view+json": {
              "version_major": 2,
              "version_minor": 0,
              "model_id": "1a9073fdda9d417e9ba2b0837d4c2b69"
            }
          },
          "metadata": {}
        },
        {
          "output_type": "display_data",
          "data": {
            "text/plain": [
              "Output()"
            ],
            "application/vnd.jupyter.widget-view+json": {
              "version_major": 2,
              "version_minor": 0,
              "model_id": "29459d477368427d9c2e221522643fe6"
            }
          },
          "metadata": {}
        }
      ]
    },
    {
      "cell_type": "code",
      "source": [],
      "metadata": {
        "id": "MMdemQm3rN6X"
      },
      "execution_count": null,
      "outputs": []
    }
  ]
}